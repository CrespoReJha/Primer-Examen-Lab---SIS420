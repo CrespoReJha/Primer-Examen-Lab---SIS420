{
  "nbformat": 4,
  "nbformat_minor": 0,
  "metadata": {
    "colab": {
      "provenance": [],
      "collapsed_sections": [
        "B-KPbgfzIlI3",
        "q5fpEjuWJyij",
        "0xMObfBuKyFv"
      ]
    },
    "kernelspec": {
      "name": "python3",
      "display_name": "Python 3"
    },
    "language_info": {
      "name": "python"
    }
  },
  "cells": [
    {
      "cell_type": "markdown",
      "source": [
        "#Primer Examen de Laboratorio - IA"
      ],
      "metadata": {
        "id": "6EqMxkqdFfYz"
      }
    },
    {
      "cell_type": "markdown",
      "source": [
        "##Nombre: Jhamil Crespo Rejas\n",
        "##Carrera: Ingenieria en Ciencias de la Computacion"
      ],
      "metadata": {
        "id": "zujknI3GVPnf"
      }
    },
    {
      "cell_type": "markdown",
      "source": [
        "##Importacion de Librerias"
      ],
      "metadata": {
        "id": "0iY4q2LnGQim"
      }
    },
    {
      "cell_type": "code",
      "source": [
        "from google.colab import drive\n",
        "drive.mount('/content/drive')"
      ],
      "metadata": {
        "colab": {
          "base_uri": "https://localhost:8080/"
        },
        "id": "pijicSQFBJmw",
        "outputId": "b4416d08-7571-443f-9d91-2292d72a7c90"
      },
      "execution_count": 1,
      "outputs": [
        {
          "output_type": "stream",
          "name": "stdout",
          "text": [
            "Mounted at /content/drive\n"
          ]
        }
      ]
    },
    {
      "cell_type": "code",
      "execution_count": 2,
      "metadata": {
        "id": "nhrC0XkrAJBN"
      },
      "outputs": [],
      "source": [
        "# utilizado para manejos de directorios y rutas\n",
        "import os\n",
        "#utilizado para importar y ordenar los datos del DATASET\n",
        "import pandas as pd\n",
        "# Computacion vectorial y cientifica para python\n",
        "import numpy as np\n",
        "\n",
        "# Modulo de optimizacion en scipy\n",
        "from scipy import optimize\n",
        "\n",
        "from sklearn.model_selection import train_test_split\n",
        "\n",
        "# Librerias para graficar\n",
        "from matplotlib import pyplot\n",
        "\n",
        "# le dice a matplotlib que incruste gráficos en el cuaderno\n",
        "%matplotlib inline"
      ]
    },
    {
      "cell_type": "markdown",
      "source": [
        "##Analisis del Dataset"
      ],
      "metadata": {
        "id": "0LaRonoJGI8v"
      }
    },
    {
      "cell_type": "markdown",
      "source": [
        "\n",
        "\n",
        "Extraemos el dataset y lo almacenamos en un dataframe con ayuda de pandas"
      ],
      "metadata": {
        "id": "v_8YQ9gLDIoL"
      }
    },
    {
      "cell_type": "code",
      "source": [
        "dataframe = pd.read_csv('/content/drive/MyDrive/Primer Examen Lab - IA/Cleaned_data_for_model.csv')\n",
        "print(dataframe.sample(n=200))"
      ],
      "metadata": {
        "colab": {
          "base_uri": "https://localhost:8080/"
        },
        "id": "1IsDKk8JBfjx",
        "outputId": "f4ecf859-265f-44d8-94cb-c80a4c38e365"
      },
      "execution_count": 3,
      "outputs": [
        {
          "output_type": "stream",
          "name": "stdout",
          "text": [
            "       Unnamed: 0  property_type     price                     location  \\\n",
            "72504      115625  Upper Portion     34000               Satellite Town   \n",
            "30347       45413          House     60000              North Nazimabad   \n",
            "81490      133254           Flat     28000         Gulshan-e-Iqbal Town   \n",
            "64206      100508          House   5500000                         D-17   \n",
            "91635      152680          House  12000000           PWD Housing Scheme   \n",
            "...           ...            ...       ...                          ...   \n",
            "12169       17700          House     38000                    Scheme 33   \n",
            "63914      100033  Upper Portion     30000                          G-6   \n",
            "81626      133480           Flat   7000000          Bahria Town Karachi   \n",
            "74654      119442          House  27000000                    Askari 10   \n",
            "35389       53255          House  14300000  Central Park Housing Scheme   \n",
            "\n",
            "             city  baths   purpose  bedrooms  Area_in_Marla  \n",
            "72504  Rawalpindi      2  For Rent         2            5.0  \n",
            "30347     Karachi      3  For Rent         3           10.2  \n",
            "81490     Karachi      3  For Rent         3            5.3  \n",
            "64206   Islamabad      4  For Sale         4            6.7  \n",
            "91635   Islamabad      6  For Sale         5           10.0  \n",
            "...           ...    ...       ...       ...            ...  \n",
            "12169     Karachi      4  For Rent         3            4.8  \n",
            "63914   Islamabad      1  For Rent         2            7.0  \n",
            "81626     Karachi      2  For Sale         2            4.2  \n",
            "74654  Rawalpindi      4  For Sale         4           10.0  \n",
            "35389      Lahore      6  For Sale         4           10.0  \n",
            "\n",
            "[200 rows x 9 columns]\n"
          ]
        }
      ]
    },
    {
      "cell_type": "markdown",
      "source": [
        "###Cambio de texto a numeros"
      ],
      "metadata": {
        "id": "AB3mZ80kDVKs"
      }
    },
    {
      "cell_type": "markdown",
      "source": [
        "Varias de las caracteristicas de este dataset contienen datos categoricos, y para entrenar al modelo necesitamos convertir estos datos a una equivalencia numerica"
      ],
      "metadata": {
        "id": "6d05-gzlIKpo"
      }
    },
    {
      "cell_type": "markdown",
      "source": [
        "####property_type"
      ],
      "metadata": {
        "id": "JP_GzqoEFZ2E"
      }
    },
    {
      "cell_type": "code",
      "source": [
        "property_type_unicos = dataframe['property_type'].unique() #Obtenemos todos los valores unicos de la columna 'job'\n",
        "\n",
        "#Mostramos la lista de trabajos unicos y la cantidad de estos\n",
        "print(property_type_unicos)\n",
        "print(len(property_type_unicos))"
      ],
      "metadata": {
        "colab": {
          "base_uri": "https://localhost:8080/"
        },
        "id": "UCxqRzMsb2eX",
        "outputId": "0555ca4c-1dd3-4674-e0cb-a12225ffe8e3"
      },
      "execution_count": 4,
      "outputs": [
        {
          "output_type": "stream",
          "name": "stdout",
          "text": [
            "['Flat' 'House' 'Penthouse' 'Lower Portion' 'Upper Portion' 'Room'\n",
            " 'Farm House']\n",
            "7\n"
          ]
        }
      ]
    },
    {
      "cell_type": "code",
      "source": [
        "#Se asigna valores numericos a cada uno de los trabajos\n",
        "property_type_ordinal_map = {\n",
        "    'Flat': 1,\n",
        "    'House': 2,\n",
        "    'Penthouse': 3,\n",
        "    'Lower Portion': 4,\n",
        "    'Upper Portion': 5,\n",
        "    'Room': 6,\n",
        "    'Farm House': 7\n",
        "}\n",
        "\n",
        "# Se aplica el mapeo a la columna 'job' y se crea una nueva columna 'job_ordinal' con los valores numericos respectivos\n",
        "dataframe['property_type_ordinal'] = dataframe['property_type'].map(property_type_ordinal_map)\n",
        "\n",
        "#Quitamos la columna 'job'\n",
        "dataframe.drop('property_type', axis=1, inplace=True)\n",
        "\n",
        "#verificamos\n",
        "print(dataframe.head())"
      ],
      "metadata": {
        "colab": {
          "base_uri": "https://localhost:8080/"
        },
        "id": "FfKCEM6QEGvb",
        "outputId": "9d16d5d3-20c8-4ea7-df2e-760a0d0e1d4d"
      },
      "execution_count": 5,
      "outputs": [
        {
          "output_type": "stream",
          "name": "stdout",
          "text": [
            "   Unnamed: 0     price     location       city  baths   purpose  bedrooms  \\\n",
            "0           0  10000000         G-10  Islamabad      2  For Sale         2   \n",
            "1           1   6900000         E-11  Islamabad      3  For Sale         3   \n",
            "2           2  16500000         G-15  Islamabad      6  For Sale         5   \n",
            "3           3  43500000    Bani Gala  Islamabad      4  For Sale         4   \n",
            "4           4   7000000  DHA Defence  Islamabad      3  For Sale         3   \n",
            "\n",
            "   Area_in_Marla  property_type_ordinal  \n",
            "0            4.0                      1  \n",
            "1            5.6                      1  \n",
            "2            8.0                      2  \n",
            "3           40.0                      2  \n",
            "4            8.0                      2  \n"
          ]
        }
      ]
    },
    {
      "cell_type": "markdown",
      "source": [
        "####location"
      ],
      "metadata": {
        "id": "B-KPbgfzIlI3"
      }
    },
    {
      "cell_type": "code",
      "source": [
        "location_unicos = dataframe['location'].unique() #Obtenemos todos los valores unicos de la columna 'marital'\n",
        "\n",
        "#Mostramos la lista de valores unicos y la cantidad de estos\n",
        "print(location_unicos)\n",
        "print(len(location_unicos))"
      ],
      "metadata": {
        "colab": {
          "base_uri": "https://localhost:8080/"
        },
        "outputId": "32b1bb35-47cc-42be-cd6f-43c10a7b0597",
        "id": "yYhRRkpCIwjE"
      },
      "execution_count": 6,
      "outputs": [
        {
          "output_type": "stream",
          "name": "stdout",
          "text": [
            "['G-10' 'E-11' 'G-15' ... 'Defence Fort' 'Sihala Valley'\n",
            " 'Shahra-e-Liaquat']\n",
            "1389\n"
          ]
        }
      ]
    },
    {
      "cell_type": "code",
      "source": [
        "from sklearn.preprocessing import OrdinalEncoder\n",
        "ordinal_encoder = OrdinalEncoder()"
      ],
      "metadata": {
        "id": "tNchkzNAK4G-"
      },
      "execution_count": 7,
      "outputs": []
    },
    {
      "cell_type": "code",
      "execution_count": 8,
      "metadata": {
        "colab": {
          "base_uri": "https://localhost:8080/"
        },
        "outputId": "a15f6d33-d7a8-4aa2-e765-ef72b1ef7edc",
        "id": "c8_rjaRgtUBc"
      },
      "outputs": [
        {
          "output_type": "stream",
          "name": "stdout",
          "text": [
            "   Unnamed: 0     price       city  baths   purpose  bedrooms  Area_in_Marla  \\\n",
            "0           0  10000000  Islamabad      2  For Sale         2            4.0   \n",
            "1           1   6900000  Islamabad      3  For Sale         3            5.6   \n",
            "2           2  16500000  Islamabad      6  For Sale         5            8.0   \n",
            "3           3  43500000  Islamabad      4  For Sale         4           40.0   \n",
            "4           4   7000000  Islamabad      3  For Sale         3            8.0   \n",
            "\n",
            "   property_type_ordinal  location_ordinal  \n",
            "0                      1             452.0  \n",
            "1                      1             382.0  \n",
            "2                      2             457.0  \n",
            "3                      2             198.0  \n",
            "4                      2             327.0  \n"
          ]
        }
      ],
      "source": [
        "#asignamos valores numericos equivalentes\n",
        "location_cat = dataframe[['location']]\n",
        "dataframe['location_ordinal'] = ordinal_encoder.fit_transform(location_cat)\n",
        "\n",
        "\n",
        "#Quitamos la columna 'marital'\n",
        "dataframe.drop('location', axis=1, inplace=True)\n",
        "\n",
        "#verificamos\n",
        "print(dataframe.head())"
      ]
    },
    {
      "cell_type": "markdown",
      "source": [
        "####city"
      ],
      "metadata": {
        "id": "q5fpEjuWJyij"
      }
    },
    {
      "cell_type": "code",
      "source": [
        "city_unicos = dataframe['city'].unique() #Obtenemos todos los valores unicos de la columna 'education'\n",
        "\n",
        "#Mostramos la lista de valores unicos y la cantidad de estos\n",
        "print(city_unicos)\n",
        "print(len(city_unicos))"
      ],
      "metadata": {
        "colab": {
          "base_uri": "https://localhost:8080/"
        },
        "id": "_8CIbDoNJ11B",
        "outputId": "cecb9864-3920-464e-af5e-ba46fa3d0eed"
      },
      "execution_count": 9,
      "outputs": [
        {
          "output_type": "stream",
          "name": "stdout",
          "text": [
            "['Islamabad' 'Lahore' 'Faisalabad' 'Rawalpindi' 'Karachi']\n",
            "5\n"
          ]
        }
      ]
    },
    {
      "cell_type": "code",
      "source": [
        "#Se asigna valores numericos a cada uno de los valores unicos\n",
        "city_ordinal_map = {\n",
        "    'Islamabad': 1,\n",
        "    'Lahore': 2,\n",
        "    'Faisalabad': 3,\n",
        "    'Rawalpindi': 4,\n",
        "    'Karachi': 5\n",
        "}\n",
        "\n",
        "# Se aplica el mapeo a la columna 'education' y se crea una nueva columna 'education_ordinal' con los valores numericos respectivos\n",
        "dataframe['city_ordinal'] = dataframe['city'].map(city_ordinal_map)\n",
        "\n",
        "#Quitamos la columna 'education'\n",
        "dataframe.drop('city', axis=1, inplace=True)\n",
        "\n",
        "#verificamos\n",
        "print(dataframe.head())"
      ],
      "metadata": {
        "colab": {
          "base_uri": "https://localhost:8080/"
        },
        "outputId": "ab216d35-89a1-4327-b5c3-47bb79740a84",
        "id": "8s9uaCAZJ6T2"
      },
      "execution_count": 10,
      "outputs": [
        {
          "output_type": "stream",
          "name": "stdout",
          "text": [
            "   Unnamed: 0     price  baths   purpose  bedrooms  Area_in_Marla  \\\n",
            "0           0  10000000      2  For Sale         2            4.0   \n",
            "1           1   6900000      3  For Sale         3            5.6   \n",
            "2           2  16500000      6  For Sale         5            8.0   \n",
            "3           3  43500000      4  For Sale         4           40.0   \n",
            "4           4   7000000      3  For Sale         3            8.0   \n",
            "\n",
            "   property_type_ordinal  location_ordinal  city_ordinal  \n",
            "0                      1             452.0             1  \n",
            "1                      1             382.0             1  \n",
            "2                      2             457.0             1  \n",
            "3                      2             198.0             1  \n",
            "4                      2             327.0             1  \n"
          ]
        }
      ]
    },
    {
      "cell_type": "markdown",
      "source": [
        "####purpose"
      ],
      "metadata": {
        "id": "0xMObfBuKyFv"
      }
    },
    {
      "cell_type": "code",
      "source": [
        "purpose_unicos = dataframe['purpose'].unique() #Obtenemos todos los valores unicos de la columna 'default'\n",
        "\n",
        "#Mostramos la lista de valores unicos y la cantidad de estos\n",
        "print(purpose_unicos)\n",
        "print(len(purpose_unicos))"
      ],
      "metadata": {
        "colab": {
          "base_uri": "https://localhost:8080/"
        },
        "outputId": "0a2e4120-0fc1-4559-e1df-5b9f1345f166",
        "id": "A79L-_W1MDNz"
      },
      "execution_count": 11,
      "outputs": [
        {
          "output_type": "stream",
          "name": "stdout",
          "text": [
            "['For Sale' 'For Rent']\n",
            "2\n"
          ]
        }
      ]
    },
    {
      "cell_type": "code",
      "source": [
        "#Se asigna valores numericos a cada uno de los valores unicos\n",
        "purpose_ordinal_map = {\n",
        "    'For Sale': 1,\n",
        "    'For Rent': 2\n",
        "}\n",
        "\n",
        "# Se aplica el mapeo a la columna 'default' y se crea una nueva columna 'default_ordinal' con los valores numericos respectivos\n",
        "dataframe['purpose_ordinal'] = dataframe['purpose'].map(purpose_ordinal_map)\n",
        "\n",
        "#Quitamos la columna 'default'\n",
        "dataframe.drop('purpose', axis=1, inplace=True)\n",
        "\n",
        "#verificamos\n",
        "print(dataframe.head())"
      ],
      "metadata": {
        "colab": {
          "base_uri": "https://localhost:8080/"
        },
        "outputId": "653db70c-4738-431d-a08f-ace3fb8f945b",
        "id": "Rog0sO8eMFxr"
      },
      "execution_count": 12,
      "outputs": [
        {
          "output_type": "stream",
          "name": "stdout",
          "text": [
            "   Unnamed: 0     price  baths  bedrooms  Area_in_Marla  \\\n",
            "0           0  10000000      2         2            4.0   \n",
            "1           1   6900000      3         3            5.6   \n",
            "2           2  16500000      6         5            8.0   \n",
            "3           3  43500000      4         4           40.0   \n",
            "4           4   7000000      3         3            8.0   \n",
            "\n",
            "   property_type_ordinal  location_ordinal  city_ordinal  purpose_ordinal  \n",
            "0                      1             452.0             1                1  \n",
            "1                      1             382.0             1                1  \n",
            "2                      2             457.0             1                1  \n",
            "3                      2             198.0             1                1  \n",
            "4                      2             327.0             1                1  \n"
          ]
        }
      ]
    },
    {
      "cell_type": "markdown",
      "source": [
        "###Correlacion"
      ],
      "metadata": {
        "id": "mIkMJo0CTMok"
      }
    },
    {
      "cell_type": "markdown",
      "source": [
        "La correlación es una medida estadística que indica el grado de relación entre las variables. Necesitamos identificar:\n",
        "\n",
        "*   Variables independientes con una correlacion muy fuerte entre si\n",
        "*   Variables independientes con una correlacion muy debil con la variable dependiente\n",
        "\n",
        "Estos deben ser eliminados ya que pueden afectar negativamente al entrenamiento del modelo\n"
      ],
      "metadata": {
        "id": "GAvVKpk6J0Ki"
      }
    },
    {
      "cell_type": "code",
      "source": [
        "correlation_matrix = dataframe.corr()\n",
        "\n",
        "# Imprime la matriz de correlación\n",
        "print(correlation_matrix)"
      ],
      "metadata": {
        "colab": {
          "base_uri": "https://localhost:8080/"
        },
        "id": "Y1eoufZcTRqY",
        "outputId": "030e1b60-b4d9-468b-8d62-1aa942ab6911"
      },
      "execution_count": 13,
      "outputs": [
        {
          "output_type": "stream",
          "name": "stdout",
          "text": [
            "                       Unnamed: 0     price     baths  bedrooms  \\\n",
            "Unnamed: 0               1.000000 -0.007957  0.001672 -0.015748   \n",
            "price                   -0.007957  1.000000  0.496222  0.464393   \n",
            "baths                    0.001672  0.496222  1.000000  0.863885   \n",
            "bedrooms                -0.015748  0.464393  0.863885  1.000000   \n",
            "Area_in_Marla            0.061182  0.145644  0.373993  0.352021   \n",
            "property_type_ordinal    0.051296 -0.194806  0.008587  0.007059   \n",
            "location_ordinal        -0.118348 -0.003149 -0.025896  0.026816   \n",
            "city_ordinal             0.004795 -0.034105 -0.217729 -0.160589   \n",
            "purpose_ordinal          0.079951 -0.612410 -0.113211 -0.119314   \n",
            "\n",
            "                       Area_in_Marla  property_type_ordinal  location_ordinal  \\\n",
            "Unnamed: 0                  0.061182               0.051296         -0.118348   \n",
            "price                       0.145644              -0.194806         -0.003149   \n",
            "baths                       0.373993               0.008587         -0.025896   \n",
            "bedrooms                    0.352021               0.007059          0.026816   \n",
            "Area_in_Marla               1.000000               0.268522         -0.102796   \n",
            "property_type_ordinal       0.268522               1.000000          0.060856   \n",
            "location_ordinal           -0.102796               0.060856          1.000000   \n",
            "city_ordinal               -0.148323              -0.165943          0.006995   \n",
            "purpose_ordinal             0.276584               0.406757         -0.097607   \n",
            "\n",
            "                       city_ordinal  purpose_ordinal  \n",
            "Unnamed: 0                 0.004795         0.079951  \n",
            "price                     -0.034105        -0.612410  \n",
            "baths                     -0.217729        -0.113211  \n",
            "bedrooms                  -0.160589        -0.119314  \n",
            "Area_in_Marla             -0.148323         0.276584  \n",
            "property_type_ordinal     -0.165943         0.406757  \n",
            "location_ordinal           0.006995        -0.097607  \n",
            "city_ordinal               1.000000        -0.092709  \n",
            "purpose_ordinal           -0.092709         1.000000  \n"
          ]
        }
      ]
    },
    {
      "cell_type": "code",
      "source": [
        "#Eliminamos las caracyeristicas que presentan una correlacion muy cercana a cero en relacion con nuestra variable dependiente 'job_ordinal'\n",
        "dataframe.drop('Unnamed: 0', axis=1, inplace=True)"
      ],
      "metadata": {
        "id": "HZfAeEzimChW"
      },
      "execution_count": 14,
      "outputs": []
    },
    {
      "cell_type": "markdown",
      "source": [
        "###Verificamos si hay nulos"
      ],
      "metadata": {
        "id": "9G9NERlKYUCX"
      }
    },
    {
      "cell_type": "code",
      "source": [
        "print(dataframe.isnull().sum())"
      ],
      "metadata": {
        "colab": {
          "base_uri": "https://localhost:8080/"
        },
        "id": "Mb0rdFbZYY8v",
        "outputId": "e8e00fde-8f39-4b9c-f126-3c87a827815f"
      },
      "execution_count": 15,
      "outputs": [
        {
          "output_type": "stream",
          "name": "stdout",
          "text": [
            "price                    0\n",
            "baths                    0\n",
            "bedrooms                 0\n",
            "Area_in_Marla            0\n",
            "property_type_ordinal    0\n",
            "location_ordinal         0\n",
            "city_ordinal             0\n",
            "purpose_ordinal          0\n",
            "dtype: int64\n"
          ]
        }
      ]
    },
    {
      "cell_type": "markdown",
      "source": [
        "##Modelo - redes neuronales"
      ],
      "metadata": {
        "id": "xM96IF_6ZQ_p"
      }
    },
    {
      "cell_type": "markdown",
      "source": [
        "Dividimos el dataframe entre las variables independientes y la variable dependiente"
      ],
      "metadata": {
        "id": "mHE2fOF9Kh3D"
      }
    },
    {
      "cell_type": "code",
      "source": [
        "y = dataframe['price']\n",
        "X = dataframe.drop(columns=['price'])"
      ],
      "metadata": {
        "id": "h0Y6GnfIZY8Y"
      },
      "execution_count": 16,
      "outputs": []
    },
    {
      "cell_type": "code",
      "source": [
        "print(X.head())\n",
        "print(y.head())"
      ],
      "metadata": {
        "colab": {
          "base_uri": "https://localhost:8080/"
        },
        "id": "IH2HnTyna1lY",
        "outputId": "ce83e2af-5592-4475-de57-4290699b09a8"
      },
      "execution_count": 17,
      "outputs": [
        {
          "output_type": "stream",
          "name": "stdout",
          "text": [
            "   baths  bedrooms  Area_in_Marla  property_type_ordinal  location_ordinal  \\\n",
            "0      2         2            4.0                      1             452.0   \n",
            "1      3         3            5.6                      1             382.0   \n",
            "2      6         5            8.0                      2             457.0   \n",
            "3      4         4           40.0                      2             198.0   \n",
            "4      3         3            8.0                      2             327.0   \n",
            "\n",
            "   city_ordinal  purpose_ordinal  \n",
            "0             1                1  \n",
            "1             1                1  \n",
            "2             1                1  \n",
            "3             1                1  \n",
            "4             1                1  \n",
            "0    10000000\n",
            "1     6900000\n",
            "2    16500000\n",
            "3    43500000\n",
            "4     7000000\n",
            "Name: price, dtype: int64\n"
          ]
        }
      ]
    },
    {
      "cell_type": "markdown",
      "source": [
        "Dividimos los datos en conjuntos para entrenamiento y para prueba, indicando que se usara el 80% para entrenar y el resto para probar."
      ],
      "metadata": {
        "id": "4HPFzUERKr5w"
      }
    },
    {
      "cell_type": "code",
      "source": [
        "\n",
        "X_train, X_test, y_train, y_test = train_test_split(X, y, test_size=0.2, random_state=1)"
      ],
      "metadata": {
        "id": "iahxUsl1bizr"
      },
      "execution_count": 18,
      "outputs": []
    },
    {
      "cell_type": "code",
      "source": [
        "print(len(X_train))\n",
        "print(len(y_train))"
      ],
      "metadata": {
        "colab": {
          "base_uri": "https://localhost:8080/"
        },
        "id": "kicUoy1scTe7",
        "outputId": "9da035c9-e824-479f-c3db-5c3460eb5eac"
      },
      "execution_count": 19,
      "outputs": [
        {
          "output_type": "stream",
          "name": "stdout",
          "text": [
            "79599\n",
            "79599\n"
          ]
        }
      ]
    },
    {
      "cell_type": "markdown",
      "source": [
        "Pasamos los datos del DataFrame a un array de NumPy\n"
      ],
      "metadata": {
        "id": "CDdyzPtBeIhj"
      }
    },
    {
      "cell_type": "code",
      "source": [
        "X_trainNp = X_train.values\n",
        "y_trainNp= y_train.values"
      ],
      "metadata": {
        "id": "S1jDDbkBeGnT"
      },
      "execution_count": 20,
      "outputs": []
    },
    {
      "cell_type": "markdown",
      "source": [
        "Verificamos que no tenga valores NAN"
      ],
      "metadata": {
        "id": "Ati2OhpRK7f9"
      }
    },
    {
      "cell_type": "code",
      "source": [
        "isnan_arr = np.isnan(X_trainNp)\n",
        "\n",
        "print(isnan_arr[isnan_arr == True])"
      ],
      "metadata": {
        "colab": {
          "base_uri": "https://localhost:8080/"
        },
        "id": "Dw7vtUEd9XeJ",
        "outputId": "999fa8b5-545c-46f3-acfa-06ca82263217"
      },
      "execution_count": 21,
      "outputs": [
        {
          "output_type": "stream",
          "name": "stdout",
          "text": [
            "[]\n"
          ]
        }
      ]
    },
    {
      "cell_type": "code",
      "source": [
        "print(X_trainNp.shape[1])"
      ],
      "metadata": {
        "colab": {
          "base_uri": "https://localhost:8080/"
        },
        "id": "kYqFUcRgfEdD",
        "outputId": "1ccc184e-ed3e-48eb-b80d-077381f78ccd"
      },
      "execution_count": 22,
      "outputs": [
        {
          "output_type": "stream",
          "name": "stdout",
          "text": [
            "7\n"
          ]
        }
      ]
    },
    {
      "cell_type": "code",
      "source": [
        "X = X_trainNp\n",
        "Y = y_trainNp"
      ],
      "metadata": {
        "id": "Jvxj04dV0bqF"
      },
      "execution_count": 23,
      "outputs": []
    },
    {
      "cell_type": "code",
      "source": [],
      "metadata": {
        "id": "jXTF7PSGSjm9"
      },
      "execution_count": 23,
      "outputs": []
    },
    {
      "cell_type": "markdown",
      "source": [
        "Keras es una biblioteca de Python para el aprendizaje profundo. Sequential es un tipo de modelo en Keras que se define como una secuencia lineal de capas. Dense es la capa de red neuronal que se utiliza más comúnmente. Cada neurona recibe la entrada de todas las neuronas en la capa anterior, por lo tanto, densamente conectada."
      ],
      "metadata": {
        "id": "MWB4LBxNP9Sd"
      }
    },
    {
      "cell_type": "code",
      "execution_count": 24,
      "metadata": {
        "scrolled": true,
        "id": "bDHrTGqYsuqW"
      },
      "outputs": [],
      "source": [
        "from keras.models import Sequential\n",
        "from keras.layers import Dense\n",
        "import numpy\n",
        "from keras.utils import plot_model\n",
        "\n",
        "seed = 7\n",
        "numpy.random.seed(seed)"
      ]
    },
    {
      "cell_type": "markdown",
      "source": [
        "Adicionamos al modelo las capas ocultas (en este caso 2) y la capa de salida en la que se utiliza como funcion de activacion 'linear' que hara que hara que la salida tenga valores proporcionales a la entrada"
      ],
      "metadata": {
        "id": "M0b6TMhypBIZ"
      }
    },
    {
      "cell_type": "code",
      "execution_count": 25,
      "metadata": {
        "scrolled": true,
        "id": "qhKhjgsUsuqY",
        "outputId": "353be0dd-3e8b-493c-f2c5-af9d39c20f1f",
        "colab": {
          "base_uri": "https://localhost:8080/"
        }
      },
      "outputs": [
        {
          "output_type": "stream",
          "name": "stdout",
          "text": [
            "Model: \"sequential\"\n",
            "_________________________________________________________________\n",
            " Layer (type)                Output Shape              Param #   \n",
            "=================================================================\n",
            " dense (Dense)               (None, 12)                96        \n",
            "                                                                 \n",
            " dense_1 (Dense)             (None, 8)                 104       \n",
            "                                                                 \n",
            " dense_2 (Dense)             (None, 1)                 9         \n",
            "                                                                 \n",
            "=================================================================\n",
            "Total params: 209 (836.00 Byte)\n",
            "Trainable params: 209 (836.00 Byte)\n",
            "Non-trainable params: 0 (0.00 Byte)\n",
            "_________________________________________________________________\n"
          ]
        }
      ],
      "source": [
        "model = Sequential() #inicializando un modelo secuencial en Keras\n",
        "model.add(Dense(12, input_dim=7, activation='relu')) #agregando una capa con 12 neuronas para 7 entradas (caracteristicas)\n",
        "model.add(Dense(8, activation='relu')) #agregando otra capa con 8 neuronas\n",
        "#model.add(Dense(1, activation='sigmoid'))\n",
        "model.add(Dense(1, activation='linear')) #agreagando la ultima capa con una sola salida\n",
        "model.summary() #muestra datos del modelo\n"
      ]
    },
    {
      "cell_type": "markdown",
      "source": [
        "Compilamos el modelo utilizando la funcion de perdida 'mean_square_error' ya que estamos realizando una regresion. Tambien utilizamos 'adam' como optimizador"
      ],
      "metadata": {
        "id": "HxzFR5W6oTds"
      }
    },
    {
      "cell_type": "code",
      "execution_count": 26,
      "metadata": {
        "id": "7FrLeN-EsuqZ"
      },
      "outputs": [],
      "source": [
        "#model.compile(loss='binary_crossentropy', optimizer='adam', metrics=['accuracy'])\n",
        "model.compile(loss='mean_squared_error', optimizer='adam')\n",
        "#model.compile(loss='mean_squared_error', optimizer='adam', metrics=['accuracy'])\n",
        "#model.compile(loss='categorical_crossentropy', optimizer='adam', metrics=['accuracy'])"
      ]
    },
    {
      "cell_type": "markdown",
      "source": [
        "En esta parte entrenamos al modelo con 500 iteraciones y usando lotes de 256 muestras"
      ],
      "metadata": {
        "id": "TSsuFJ2Qpyzu"
      }
    },
    {
      "cell_type": "code",
      "execution_count": 36,
      "metadata": {
        "id": "O0nk3EI3suqa",
        "outputId": "c411460f-9c03-44a5-9090-edb5af090184",
        "colab": {
          "base_uri": "https://localhost:8080/"
        }
      },
      "outputs": [
        {
          "output_type": "stream",
          "name": "stdout",
          "text": [
            "Epoch 1/500\n",
            "311/311 [==============================] - 1s 2ms/step - loss: 63855438856192.0000\n",
            "Epoch 2/500\n",
            "311/311 [==============================] - 1s 2ms/step - loss: 63804515811328.0000\n",
            "Epoch 3/500\n",
            "311/311 [==============================] - 1s 2ms/step - loss: 63767131979776.0000\n",
            "Epoch 4/500\n",
            "311/311 [==============================] - 1s 2ms/step - loss: 63727894265856.0000\n",
            "Epoch 5/500\n",
            "311/311 [==============================] - 1s 2ms/step - loss: 63678468587520.0000\n",
            "Epoch 6/500\n",
            "311/311 [==============================] - 1s 2ms/step - loss: 63636366163968.0000\n",
            "Epoch 7/500\n",
            "311/311 [==============================] - 1s 2ms/step - loss: 63587317972992.0000\n",
            "Epoch 8/500\n",
            "311/311 [==============================] - 1s 2ms/step - loss: 63546788413440.0000\n",
            "Epoch 9/500\n",
            "311/311 [==============================] - 0s 2ms/step - loss: 63502588837888.0000\n",
            "Epoch 10/500\n",
            "311/311 [==============================] - 1s 3ms/step - loss: 63461673402368.0000\n",
            "Epoch 11/500\n",
            "311/311 [==============================] - 1s 3ms/step - loss: 63418056835072.0000\n",
            "Epoch 12/500\n",
            "311/311 [==============================] - 1s 2ms/step - loss: 63371189682176.0000\n",
            "Epoch 13/500\n",
            "311/311 [==============================] - 1s 3ms/step - loss: 63329276002304.0000\n",
            "Epoch 14/500\n",
            "311/311 [==============================] - 1s 3ms/step - loss: 63283671334912.0000\n",
            "Epoch 15/500\n",
            "311/311 [==============================] - 1s 2ms/step - loss: 63242508435456.0000\n",
            "Epoch 16/500\n",
            "311/311 [==============================] - 1s 2ms/step - loss: 63199382601728.0000\n",
            "Epoch 17/500\n",
            "311/311 [==============================] - 1s 2ms/step - loss: 63152003743744.0000\n",
            "Epoch 18/500\n",
            "311/311 [==============================] - 1s 2ms/step - loss: 63104410976256.0000\n",
            "Epoch 19/500\n",
            "311/311 [==============================] - 1s 2ms/step - loss: 63063868833792.0000\n",
            "Epoch 20/500\n",
            "311/311 [==============================] - 0s 2ms/step - loss: 63018574544896.0000\n",
            "Epoch 21/500\n",
            "311/311 [==============================] - 1s 2ms/step - loss: 62977206124544.0000\n",
            "Epoch 22/500\n",
            "311/311 [==============================] - 1s 2ms/step - loss: 62932389986304.0000\n",
            "Epoch 23/500\n",
            "311/311 [==============================] - 1s 2ms/step - loss: 62885514444800.0000\n",
            "Epoch 24/500\n",
            "311/311 [==============================] - 1s 2ms/step - loss: 62841373589504.0000\n",
            "Epoch 25/500\n",
            "311/311 [==============================] - 1s 2ms/step - loss: 62795030724608.0000\n",
            "Epoch 26/500\n",
            "311/311 [==============================] - 1s 2ms/step - loss: 62749598023680.0000\n",
            "Epoch 27/500\n",
            "311/311 [==============================] - 1s 2ms/step - loss: 62707118112768.0000\n",
            "Epoch 28/500\n",
            "311/311 [==============================] - 1s 2ms/step - loss: 62658288025600.0000\n",
            "Epoch 29/500\n",
            "311/311 [==============================] - 1s 2ms/step - loss: 62617670385664.0000\n",
            "Epoch 30/500\n",
            "311/311 [==============================] - 1s 2ms/step - loss: 62571008753664.0000\n",
            "Epoch 31/500\n",
            "311/311 [==============================] - 1s 2ms/step - loss: 62516482801664.0000\n",
            "Epoch 32/500\n",
            "311/311 [==============================] - 1s 2ms/step - loss: 62478356578304.0000\n",
            "Epoch 33/500\n",
            "311/311 [==============================] - 1s 3ms/step - loss: 62431502008320.0000\n",
            "Epoch 34/500\n",
            "311/311 [==============================] - 1s 3ms/step - loss: 62388980154368.0000\n",
            "Epoch 35/500\n",
            "311/311 [==============================] - 1s 3ms/step - loss: 62343098662912.0000\n",
            "Epoch 36/500\n",
            "311/311 [==============================] - 1s 3ms/step - loss: 62294906109952.0000\n",
            "Epoch 37/500\n",
            "311/311 [==============================] - 1s 2ms/step - loss: 62247112015872.0000\n",
            "Epoch 38/500\n",
            "311/311 [==============================] - 1s 2ms/step - loss: 62210457993216.0000\n",
            "Epoch 39/500\n",
            "311/311 [==============================] - 1s 2ms/step - loss: 62157953695744.0000\n",
            "Epoch 40/500\n",
            "311/311 [==============================] - 1s 2ms/step - loss: 62117373804544.0000\n",
            "Epoch 41/500\n",
            "311/311 [==============================] - 1s 2ms/step - loss: 62067071516672.0000\n",
            "Epoch 42/500\n",
            "311/311 [==============================] - 1s 2ms/step - loss: 62021890473984.0000\n",
            "Epoch 43/500\n",
            "311/311 [==============================] - 1s 2ms/step - loss: 61972343160832.0000\n",
            "Epoch 44/500\n",
            "311/311 [==============================] - 1s 2ms/step - loss: 61925832523776.0000\n",
            "Epoch 45/500\n",
            "311/311 [==============================] - 1s 2ms/step - loss: 61886297014272.0000\n",
            "Epoch 46/500\n",
            "311/311 [==============================] - 1s 2ms/step - loss: 61837890551808.0000\n",
            "Epoch 47/500\n",
            "311/311 [==============================] - 1s 2ms/step - loss: 61795507109888.0000\n",
            "Epoch 48/500\n",
            "311/311 [==============================] - 1s 2ms/step - loss: 61740503007232.0000\n",
            "Epoch 49/500\n",
            "311/311 [==============================] - 1s 2ms/step - loss: 61695837863936.0000\n",
            "Epoch 50/500\n",
            "311/311 [==============================] - 1s 2ms/step - loss: 61650845564928.0000\n",
            "Epoch 51/500\n",
            "311/311 [==============================] - 1s 2ms/step - loss: 61605471584256.0000\n",
            "Epoch 52/500\n",
            "311/311 [==============================] - 1s 2ms/step - loss: 61558105309184.0000\n",
            "Epoch 53/500\n",
            "311/311 [==============================] - 1s 2ms/step - loss: 61511422705664.0000\n",
            "Epoch 54/500\n",
            "311/311 [==============================] - 1s 2ms/step - loss: 61463091740672.0000\n",
            "Epoch 55/500\n",
            "311/311 [==============================] - 1s 2ms/step - loss: 61417755508736.0000\n",
            "Epoch 56/500\n",
            "311/311 [==============================] - 1s 3ms/step - loss: 61372582854656.0000\n",
            "Epoch 57/500\n",
            "311/311 [==============================] - 1s 3ms/step - loss: 61326713946112.0000\n",
            "Epoch 58/500\n",
            "311/311 [==============================] - 1s 3ms/step - loss: 61280882786304.0000\n",
            "Epoch 59/500\n",
            "311/311 [==============================] - 1s 3ms/step - loss: 61231549382656.0000\n",
            "Epoch 60/500\n",
            "311/311 [==============================] - 1s 2ms/step - loss: 61186989096960.0000\n",
            "Epoch 61/500\n",
            "311/311 [==============================] - 1s 2ms/step - loss: 61141531230208.0000\n",
            "Epoch 62/500\n",
            "311/311 [==============================] - 1s 2ms/step - loss: 61094764740608.0000\n",
            "Epoch 63/500\n",
            "311/311 [==============================] - 1s 2ms/step - loss: 61047448797184.0000\n",
            "Epoch 64/500\n",
            "311/311 [==============================] - 1s 2ms/step - loss: 60999952498688.0000\n",
            "Epoch 65/500\n",
            "311/311 [==============================] - 1s 2ms/step - loss: 60952338759680.0000\n",
            "Epoch 66/500\n",
            "311/311 [==============================] - 1s 2ms/step - loss: 60909338755072.0000\n",
            "Epoch 67/500\n",
            "311/311 [==============================] - 1s 2ms/step - loss: 60860529639424.0000\n",
            "Epoch 68/500\n",
            "311/311 [==============================] - 1s 2ms/step - loss: 60820503396352.0000\n",
            "Epoch 69/500\n",
            "311/311 [==============================] - 1s 2ms/step - loss: 60768296894464.0000\n",
            "Epoch 70/500\n",
            "311/311 [==============================] - 1s 2ms/step - loss: 60723266846720.0000\n",
            "Epoch 71/500\n",
            "311/311 [==============================] - 1s 2ms/step - loss: 60671764987904.0000\n",
            "Epoch 72/500\n",
            "311/311 [==============================] - 1s 2ms/step - loss: 60628798537728.0000\n",
            "Epoch 73/500\n",
            "311/311 [==============================] - 1s 2ms/step - loss: 60582539558912.0000\n",
            "Epoch 74/500\n",
            "311/311 [==============================] - 1s 2ms/step - loss: 60530534383616.0000\n",
            "Epoch 75/500\n",
            "311/311 [==============================] - 1s 2ms/step - loss: 60488272576512.0000\n",
            "Epoch 76/500\n",
            "311/311 [==============================] - 1s 2ms/step - loss: 60440801443840.0000\n",
            "Epoch 77/500\n",
            "311/311 [==============================] - 1s 2ms/step - loss: 60389513494528.0000\n",
            "Epoch 78/500\n",
            "311/311 [==============================] - 1s 3ms/step - loss: 60344579915776.0000\n",
            "Epoch 79/500\n",
            "311/311 [==============================] - 1s 3ms/step - loss: 60293929500672.0000\n",
            "Epoch 80/500\n",
            "311/311 [==============================] - 1s 3ms/step - loss: 60242427641856.0000\n",
            "Epoch 81/500\n",
            "311/311 [==============================] - 1s 3ms/step - loss: 60201340239872.0000\n",
            "Epoch 82/500\n",
            "311/311 [==============================] - 1s 2ms/step - loss: 60150694019072.0000\n",
            "Epoch 83/500\n",
            "311/311 [==============================] - 1s 2ms/step - loss: 60110571307008.0000\n",
            "Epoch 84/500\n",
            "311/311 [==============================] - 1s 2ms/step - loss: 60060864610304.0000\n",
            "Epoch 85/500\n",
            "311/311 [==============================] - 0s 2ms/step - loss: 60005613043712.0000\n",
            "Epoch 86/500\n",
            "311/311 [==============================] - 0s 2ms/step - loss: 59960465555456.0000\n",
            "Epoch 87/500\n",
            "311/311 [==============================] - 1s 2ms/step - loss: 59919134883840.0000\n",
            "Epoch 88/500\n",
            "311/311 [==============================] - 1s 2ms/step - loss: 59868174090240.0000\n",
            "Epoch 89/500\n",
            "311/311 [==============================] - 1s 2ms/step - loss: 59818819715072.0000\n",
            "Epoch 90/500\n",
            "311/311 [==============================] - 0s 2ms/step - loss: 59771092729856.0000\n",
            "Epoch 91/500\n",
            "311/311 [==============================] - 1s 2ms/step - loss: 59722610769920.0000\n",
            "Epoch 92/500\n",
            "311/311 [==============================] - 1s 2ms/step - loss: 59676611837952.0000\n",
            "Epoch 93/500\n",
            "311/311 [==============================] - 1s 2ms/step - loss: 59628989710336.0000\n",
            "Epoch 94/500\n",
            "311/311 [==============================] - 1s 2ms/step - loss: 59580444835840.0000\n",
            "Epoch 95/500\n",
            "311/311 [==============================] - 1s 3ms/step - loss: 59528024424448.0000\n",
            "Epoch 96/500\n",
            "311/311 [==============================] - 1s 3ms/step - loss: 59490300854272.0000\n",
            "Epoch 97/500\n",
            "311/311 [==============================] - 1s 3ms/step - loss: 59438446673920.0000\n",
            "Epoch 98/500\n",
            "311/311 [==============================] - 1s 3ms/step - loss: 59390107320320.0000\n",
            "Epoch 99/500\n",
            "311/311 [==============================] - 1s 3ms/step - loss: 59335136772096.0000\n",
            "Epoch 100/500\n",
            "311/311 [==============================] - 1s 3ms/step - loss: 59290417102848.0000\n",
            "Epoch 101/500\n",
            "311/311 [==============================] - 1s 3ms/step - loss: 59242459430912.0000\n",
            "Epoch 102/500\n",
            "311/311 [==============================] - 1s 3ms/step - loss: 59197391634432.0000\n",
            "Epoch 103/500\n",
            "311/311 [==============================] - 1s 3ms/step - loss: 59143486439424.0000\n",
            "Epoch 104/500\n",
            "311/311 [==============================] - 1s 2ms/step - loss: 59092798275584.0000\n",
            "Epoch 105/500\n",
            "311/311 [==============================] - 1s 2ms/step - loss: 59047306854400.0000\n",
            "Epoch 106/500\n",
            "311/311 [==============================] - 1s 2ms/step - loss: 58997973450752.0000\n",
            "Epoch 107/500\n",
            "311/311 [==============================] - 1s 2ms/step - loss: 58946794553344.0000\n",
            "Epoch 108/500\n",
            "311/311 [==============================] - 0s 2ms/step - loss: 58898455199744.0000\n",
            "Epoch 109/500\n",
            "311/311 [==============================] - 1s 2ms/step - loss: 58849558003712.0000\n",
            "Epoch 110/500\n",
            "311/311 [==============================] - 1s 2ms/step - loss: 58802204311552.0000\n",
            "Epoch 111/500\n",
            "311/311 [==============================] - 1s 2ms/step - loss: 58751339986944.0000\n",
            "Epoch 112/500\n",
            "311/311 [==============================] - 1s 2ms/step - loss: 58701507461120.0000\n",
            "Epoch 113/500\n",
            "311/311 [==============================] - 1s 2ms/step - loss: 58655152013312.0000\n",
            "Epoch 114/500\n",
            "311/311 [==============================] - 1s 2ms/step - loss: 58602232479744.0000\n",
            "Epoch 115/500\n",
            "311/311 [==============================] - 1s 2ms/step - loss: 58550508322816.0000\n",
            "Epoch 116/500\n",
            "311/311 [==============================] - 1s 2ms/step - loss: 58506803675136.0000\n",
            "Epoch 117/500\n",
            "311/311 [==============================] - 1s 2ms/step - loss: 58457659015168.0000\n",
            "Epoch 118/500\n",
            "311/311 [==============================] - 1s 2ms/step - loss: 58408073953280.0000\n",
            "Epoch 119/500\n",
            "311/311 [==============================] - 1s 2ms/step - loss: 58362297319424.0000\n",
            "Epoch 120/500\n",
            "311/311 [==============================] - 1s 2ms/step - loss: 58310459916288.0000\n",
            "Epoch 121/500\n",
            "311/311 [==============================] - 1s 2ms/step - loss: 58265165627392.0000\n",
            "Epoch 122/500\n",
            "311/311 [==============================] - 1s 2ms/step - loss: 58213214978048.0000\n",
            "Epoch 123/500\n",
            "311/311 [==============================] - 1s 3ms/step - loss: 58162182881280.0000\n",
            "Epoch 124/500\n",
            "311/311 [==============================] - 1s 3ms/step - loss: 58114569142272.0000\n",
            "Epoch 125/500\n",
            "311/311 [==============================] - 1s 3ms/step - loss: 58067748126720.0000\n",
            "Epoch 126/500\n",
            "311/311 [==============================] - 1s 3ms/step - loss: 58013171843072.0000\n",
            "Epoch 127/500\n",
            "311/311 [==============================] - 1s 2ms/step - loss: 57967252602880.0000\n",
            "Epoch 128/500\n",
            "311/311 [==============================] - 1s 2ms/step - loss: 57918888083456.0000\n",
            "Epoch 129/500\n",
            "311/311 [==============================] - 1s 2ms/step - loss: 57864768978944.0000\n",
            "Epoch 130/500\n",
            "311/311 [==============================] - 1s 2ms/step - loss: 57819403386880.0000\n",
            "Epoch 131/500\n",
            "311/311 [==============================] - 1s 2ms/step - loss: 57765477220352.0000\n",
            "Epoch 132/500\n",
            "311/311 [==============================] - 1s 2ms/step - loss: 57714935857152.0000\n",
            "Epoch 133/500\n",
            "311/311 [==============================] - 1s 2ms/step - loss: 57667959652352.0000\n",
            "Epoch 134/500\n",
            "311/311 [==============================] - 1s 2ms/step - loss: 57618945015808.0000\n",
            "Epoch 135/500\n",
            "311/311 [==============================] - 1s 2ms/step - loss: 57571364831232.0000\n",
            "Epoch 136/500\n",
            "311/311 [==============================] - 1s 2ms/step - loss: 57518785036288.0000\n",
            "Epoch 137/500\n",
            "311/311 [==============================] - 1s 2ms/step - loss: 57469858480128.0000\n",
            "Epoch 138/500\n",
            "311/311 [==============================] - 1s 2ms/step - loss: 57418075602944.0000\n",
            "Epoch 139/500\n",
            "311/311 [==============================] - 1s 2ms/step - loss: 57369413287936.0000\n",
            "Epoch 140/500\n",
            "311/311 [==============================] - 1s 2ms/step - loss: 57318817398784.0000\n",
            "Epoch 141/500\n",
            "311/311 [==============================] - 1s 2ms/step - loss: 57275167277056.0000\n",
            "Epoch 142/500\n",
            "311/311 [==============================] - 1s 2ms/step - loss: 57219815047168.0000\n",
            "Epoch 143/500\n",
            "311/311 [==============================] - 1s 2ms/step - loss: 57170058018816.0000\n",
            "Epoch 144/500\n",
            "311/311 [==============================] - 1s 2ms/step - loss: 57117176233984.0000\n",
            "Epoch 145/500\n",
            "311/311 [==============================] - 1s 2ms/step - loss: 57070141308928.0000\n",
            "Epoch 146/500\n",
            "311/311 [==============================] - 1s 3ms/step - loss: 57018362626048.0000\n",
            "Epoch 147/500\n",
            "311/311 [==============================] - 1s 3ms/step - loss: 56969327017984.0000\n",
            "Epoch 148/500\n",
            "311/311 [==============================] - 1s 3ms/step - loss: 56916545896448.0000\n",
            "Epoch 149/500\n",
            "311/311 [==============================] - 1s 3ms/step - loss: 56866520432640.0000\n",
            "Epoch 150/500\n",
            "311/311 [==============================] - 1s 2ms/step - loss: 56815849046016.0000\n",
            "Epoch 151/500\n",
            "311/311 [==============================] - 1s 2ms/step - loss: 56764531736576.0000\n",
            "Epoch 152/500\n",
            "311/311 [==============================] - 1s 2ms/step - loss: 56715504517120.0000\n",
            "Epoch 153/500\n",
            "311/311 [==============================] - 1s 2ms/step - loss: 56667647508480.0000\n",
            "Epoch 154/500\n",
            "311/311 [==============================] - 1s 2ms/step - loss: 56614014943232.0000\n",
            "Epoch 155/500\n",
            "311/311 [==============================] - 1s 2ms/step - loss: 56561175101440.0000\n",
            "Epoch 156/500\n",
            "311/311 [==============================] - 1s 2ms/step - loss: 56521530540032.0000\n",
            "Epoch 157/500\n",
            "311/311 [==============================] - 1s 2ms/step - loss: 56463384903680.0000\n",
            "Epoch 158/500\n",
            "311/311 [==============================] - 1s 2ms/step - loss: 56414336712704.0000\n",
            "Epoch 159/500\n",
            "311/311 [==============================] - 1s 2ms/step - loss: 56360343437312.0000\n",
            "Epoch 160/500\n",
            "311/311 [==============================] - 1s 2ms/step - loss: 56308401176576.0000\n",
            "Epoch 161/500\n",
            "311/311 [==============================] - 1s 2ms/step - loss: 56264470036480.0000\n",
            "Epoch 162/500\n",
            "311/311 [==============================] - 1s 2ms/step - loss: 56211026214912.0000\n",
            "Epoch 163/500\n",
            "311/311 [==============================] - 1s 2ms/step - loss: 56160241582080.0000\n",
            "Epoch 164/500\n",
            "311/311 [==============================] - 1s 2ms/step - loss: 56108626477056.0000\n",
            "Epoch 165/500\n",
            "311/311 [==============================] - 1s 2ms/step - loss: 56064527564800.0000\n",
            "Epoch 166/500\n",
            "311/311 [==============================] - 1s 2ms/step - loss: 56007938015232.0000\n",
            "Epoch 167/500\n",
            "311/311 [==============================] - 1s 2ms/step - loss: 55957224685568.0000\n",
            "Epoch 168/500\n",
            "311/311 [==============================] - 1s 2ms/step - loss: 55908717559808.0000\n",
            "Epoch 169/500\n",
            "311/311 [==============================] - 1s 3ms/step - loss: 55858423660544.0000\n",
            "Epoch 170/500\n",
            "311/311 [==============================] - 1s 3ms/step - loss: 55802995933184.0000\n",
            "Epoch 171/500\n",
            "311/311 [==============================] - 1s 3ms/step - loss: 55762088886272.0000\n",
            "Epoch 172/500\n",
            "311/311 [==============================] - 1s 3ms/step - loss: 55701212758016.0000\n",
            "Epoch 173/500\n",
            "311/311 [==============================] - 1s 3ms/step - loss: 55654500794368.0000\n",
            "Epoch 174/500\n",
            "311/311 [==============================] - 1s 2ms/step - loss: 55603036684288.0000\n",
            "Epoch 175/500\n",
            "311/311 [==============================] - 1s 2ms/step - loss: 55552453378048.0000\n",
            "Epoch 176/500\n",
            "311/311 [==============================] - 1s 2ms/step - loss: 55506194399232.0000\n",
            "Epoch 177/500\n",
            "311/311 [==============================] - 1s 2ms/step - loss: 55453140647936.0000\n",
            "Epoch 178/500\n",
            "311/311 [==============================] - 1s 2ms/step - loss: 55399155761152.0000\n",
            "Epoch 179/500\n",
            "311/311 [==============================] - 1s 2ms/step - loss: 55351562993664.0000\n",
            "Epoch 180/500\n",
            "311/311 [==============================] - 1s 2ms/step - loss: 55297397751808.0000\n",
            "Epoch 181/500\n",
            "311/311 [==============================] - 1s 2ms/step - loss: 55253353365504.0000\n",
            "Epoch 182/500\n",
            "311/311 [==============================] - 0s 2ms/step - loss: 55197292298240.0000\n",
            "Epoch 183/500\n",
            "311/311 [==============================] - 1s 2ms/step - loss: 55149712113664.0000\n",
            "Epoch 184/500\n",
            "311/311 [==============================] - 1s 2ms/step - loss: 55094523461632.0000\n",
            "Epoch 185/500\n",
            "311/311 [==============================] - 1s 2ms/step - loss: 55049560522752.0000\n",
            "Epoch 186/500\n",
            "311/311 [==============================] - 1s 2ms/step - loss: 54992060809216.0000\n",
            "Epoch 187/500\n",
            "311/311 [==============================] - 1s 2ms/step - loss: 54942052122624.0000\n",
            "Epoch 188/500\n",
            "311/311 [==============================] - 1s 2ms/step - loss: 54894857814016.0000\n",
            "Epoch 189/500\n",
            "311/311 [==============================] - 1s 2ms/step - loss: 54839316840448.0000\n",
            "Epoch 190/500\n",
            "311/311 [==============================] - 1s 2ms/step - loss: 54788339269632.0000\n",
            "Epoch 191/500\n",
            "311/311 [==============================] - 1s 2ms/step - loss: 54736887742464.0000\n",
            "Epoch 192/500\n",
            "311/311 [==============================] - 1s 2ms/step - loss: 54684068872192.0000\n",
            "Epoch 193/500\n",
            "311/311 [==============================] - 1s 2ms/step - loss: 54633024192512.0000\n",
            "Epoch 194/500\n",
            "311/311 [==============================] - 1s 3ms/step - loss: 54578607292416.0000\n",
            "Epoch 195/500\n",
            "311/311 [==============================] - 1s 3ms/step - loss: 54530746089472.0000\n",
            "Epoch 196/500\n",
            "311/311 [==============================] - 1s 3ms/step - loss: 54478388592640.0000\n",
            "Epoch 197/500\n",
            "311/311 [==============================] - 1s 3ms/step - loss: 54426916093952.0000\n",
            "Epoch 198/500\n",
            "311/311 [==============================] - 1s 2ms/step - loss: 54373254168576.0000\n",
            "Epoch 199/500\n",
            "311/311 [==============================] - 1s 2ms/step - loss: 54321643257856.0000\n",
            "Epoch 200/500\n",
            "311/311 [==============================] - 1s 2ms/step - loss: 54271185780736.0000\n",
            "Epoch 201/500\n",
            "311/311 [==============================] - 1s 2ms/step - loss: 54224763224064.0000\n",
            "Epoch 202/500\n",
            "311/311 [==============================] - 1s 2ms/step - loss: 54169058672640.0000\n",
            "Epoch 203/500\n",
            "311/311 [==============================] - 1s 2ms/step - loss: 54120387969024.0000\n",
            "Epoch 204/500\n",
            "311/311 [==============================] - 1s 2ms/step - loss: 54060161957888.0000\n",
            "Epoch 205/500\n",
            "311/311 [==============================] - 1s 2ms/step - loss: 54015358402560.0000\n",
            "Epoch 206/500\n",
            "311/311 [==============================] - 1s 2ms/step - loss: 53963588108288.0000\n",
            "Epoch 207/500\n",
            "311/311 [==============================] - 1s 2ms/step - loss: 53908957298688.0000\n",
            "Epoch 208/500\n",
            "311/311 [==============================] - 1s 2ms/step - loss: 53859204464640.0000\n",
            "Epoch 209/500\n",
            "311/311 [==============================] - 1s 2ms/step - loss: 53806553366528.0000\n",
            "Epoch 210/500\n",
            "311/311 [==============================] - 1s 2ms/step - loss: 53752790777856.0000\n",
            "Epoch 211/500\n",
            "311/311 [==============================] - 1s 2ms/step - loss: 53707441963008.0000\n",
            "Epoch 212/500\n",
            "311/311 [==============================] - 1s 2ms/step - loss: 53651729022976.0000\n",
            "Epoch 213/500\n",
            "311/311 [==============================] - 1s 2ms/step - loss: 53604568268800.0000\n",
            "Epoch 214/500\n",
            "311/311 [==============================] - 1s 2ms/step - loss: 53549585137664.0000\n",
            "Epoch 215/500\n",
            "311/311 [==============================] - 1s 2ms/step - loss: 53500067184640.0000\n",
            "Epoch 216/500\n",
            "311/311 [==============================] - 1s 3ms/step - loss: 53449861365760.0000\n",
            "Epoch 217/500\n",
            "311/311 [==============================] - 1s 3ms/step - loss: 53397105410048.0000\n",
            "Epoch 218/500\n",
            "311/311 [==============================] - 1s 3ms/step - loss: 53343070191616.0000\n",
            "Epoch 219/500\n",
            "311/311 [==============================] - 1s 3ms/step - loss: 53296089792512.0000\n",
            "Epoch 220/500\n",
            "311/311 [==============================] - 1s 2ms/step - loss: 53250770337792.0000\n",
            "Epoch 221/500\n",
            "311/311 [==============================] - 1s 2ms/step - loss: 53195657183232.0000\n",
            "Epoch 222/500\n",
            "311/311 [==============================] - 1s 2ms/step - loss: 53141877817344.0000\n",
            "Epoch 223/500\n",
            "311/311 [==============================] - 1s 2ms/step - loss: 53094171803648.0000\n",
            "Epoch 224/500\n",
            "311/311 [==============================] - 1s 2ms/step - loss: 53041772363776.0000\n",
            "Epoch 225/500\n",
            "311/311 [==============================] - 1s 2ms/step - loss: 52985145065472.0000\n",
            "Epoch 226/500\n",
            "311/311 [==============================] - 1s 2ms/step - loss: 52935790690304.0000\n",
            "Epoch 227/500\n",
            "311/311 [==============================] - 1s 2ms/step - loss: 52885693923328.0000\n",
            "Epoch 228/500\n",
            "311/311 [==============================] - 1s 2ms/step - loss: 52832665337856.0000\n",
            "Epoch 229/500\n",
            "311/311 [==============================] - 1s 2ms/step - loss: 52777778675712.0000\n",
            "Epoch 230/500\n",
            "311/311 [==============================] - 1s 2ms/step - loss: 52733985947648.0000\n",
            "Epoch 231/500\n",
            "311/311 [==============================] - 1s 2ms/step - loss: 52680240136192.0000\n",
            "Epoch 232/500\n",
            "311/311 [==============================] - 1s 2ms/step - loss: 52626750177280.0000\n",
            "Epoch 233/500\n",
            "311/311 [==============================] - 0s 2ms/step - loss: 52575067963392.0000\n",
            "Epoch 234/500\n",
            "311/311 [==============================] - 1s 2ms/step - loss: 52525298352128.0000\n",
            "Epoch 235/500\n",
            "311/311 [==============================] - 1s 2ms/step - loss: 52473012158464.0000\n",
            "Epoch 236/500\n",
            "311/311 [==============================] - 1s 2ms/step - loss: 52423867498496.0000\n",
            "Epoch 237/500\n",
            "311/311 [==============================] - 1s 2ms/step - loss: 52374861250560.0000\n",
            "Epoch 238/500\n",
            "311/311 [==============================] - 1s 2ms/step - loss: 52320947666944.0000\n",
            "Epoch 239/500\n",
            "311/311 [==============================] - 1s 3ms/step - loss: 52269399670784.0000\n",
            "Epoch 240/500\n",
            "311/311 [==============================] - 1s 3ms/step - loss: 52214986964992.0000\n",
            "Epoch 241/500\n",
            "311/311 [==============================] - 1s 3ms/step - loss: 52169482960896.0000\n",
            "Epoch 242/500\n",
            "311/311 [==============================] - 1s 3ms/step - loss: 52116492124160.0000\n",
            "Epoch 243/500\n",
            "311/311 [==============================] - 1s 2ms/step - loss: 52070329614336.0000\n",
            "Epoch 244/500\n",
            "311/311 [==============================] - 1s 2ms/step - loss: 52015552004096.0000\n",
            "Epoch 245/500\n",
            "311/311 [==============================] - 1s 2ms/step - loss: 51961223184384.0000\n",
            "Epoch 246/500\n",
            "311/311 [==============================] - 1s 2ms/step - loss: 51911449378816.0000\n",
            "Epoch 247/500\n",
            "311/311 [==============================] - 1s 2ms/step - loss: 51852792037376.0000\n",
            "Epoch 248/500\n",
            "311/311 [==============================] - 1s 2ms/step - loss: 51806650499072.0000\n",
            "Epoch 249/500\n",
            "311/311 [==============================] - 1s 2ms/step - loss: 51756457263104.0000\n",
            "Epoch 250/500\n",
            "311/311 [==============================] - 1s 2ms/step - loss: 51701977448448.0000\n",
            "Epoch 251/500\n",
            "311/311 [==============================] - 1s 2ms/step - loss: 51650903408640.0000\n",
            "Epoch 252/500\n",
            "311/311 [==============================] - 1s 2ms/step - loss: 51604661207040.0000\n",
            "Epoch 253/500\n",
            "311/311 [==============================] - 1s 2ms/step - loss: 51548130377728.0000\n",
            "Epoch 254/500\n",
            "311/311 [==============================] - 1s 2ms/step - loss: 51497362522112.0000\n",
            "Epoch 255/500\n",
            "311/311 [==============================] - 1s 2ms/step - loss: 51442043846656.0000\n",
            "Epoch 256/500\n",
            "311/311 [==============================] - 1s 2ms/step - loss: 51396980244480.0000\n",
            "Epoch 257/500\n",
            "311/311 [==============================] - 1s 2ms/step - loss: 51340705267712.0000\n",
            "Epoch 258/500\n",
            "311/311 [==============================] - 1s 2ms/step - loss: 51287995449344.0000\n",
            "Epoch 259/500\n",
            "311/311 [==============================] - 1s 2ms/step - loss: 51242621468672.0000\n",
            "Epoch 260/500\n",
            "311/311 [==============================] - 1s 2ms/step - loss: 51192709251072.0000\n",
            "Epoch 261/500\n",
            "311/311 [==============================] - 1s 2ms/step - loss: 51135687688192.0000\n",
            "Epoch 262/500\n",
            "311/311 [==============================] - 1s 3ms/step - loss: 51090443730944.0000\n",
            "Epoch 263/500\n",
            "311/311 [==============================] - 1s 3ms/step - loss: 51042574139392.0000\n",
            "Epoch 264/500\n",
            "311/311 [==============================] - 1s 3ms/step - loss: 50987473567744.0000\n",
            "Epoch 265/500\n",
            "311/311 [==============================] - 1s 3ms/step - loss: 50941394944000.0000\n",
            "Epoch 266/500\n",
            "311/311 [==============================] - 1s 2ms/step - loss: 50882037153792.0000\n",
            "Epoch 267/500\n",
            "311/311 [==============================] - 1s 2ms/step - loss: 50838097625088.0000\n",
            "Epoch 268/500\n",
            "311/311 [==============================] - 1s 2ms/step - loss: 50788881661952.0000\n",
            "Epoch 269/500\n",
            "311/311 [==============================] - 1s 2ms/step - loss: 50737480466432.0000\n",
            "Epoch 270/500\n",
            "311/311 [==============================] - 1s 2ms/step - loss: 50690688811008.0000\n",
            "Epoch 271/500\n",
            "311/311 [==============================] - 1s 2ms/step - loss: 50639858040832.0000\n",
            "Epoch 272/500\n",
            "311/311 [==============================] - 1s 2ms/step - loss: 50584719720448.0000\n",
            "Epoch 273/500\n",
            "311/311 [==============================] - 1s 2ms/step - loss: 50542566965248.0000\n",
            "Epoch 274/500\n",
            "311/311 [==============================] - 1s 2ms/step - loss: 50483683131392.0000\n",
            "Epoch 275/500\n",
            "311/311 [==============================] - 1s 2ms/step - loss: 50439965900800.0000\n",
            "Epoch 276/500\n",
            "311/311 [==============================] - 1s 2ms/step - loss: 50388581482496.0000\n",
            "Epoch 277/500\n",
            "311/311 [==============================] - 1s 2ms/step - loss: 50338258223104.0000\n",
            "Epoch 278/500\n",
            "311/311 [==============================] - 1s 2ms/step - loss: 50288606052352.0000\n",
            "Epoch 279/500\n",
            "311/311 [==============================] - 1s 2ms/step - loss: 50240140869632.0000\n",
            "Epoch 280/500\n",
            "311/311 [==============================] - 1s 2ms/step - loss: 50189914079232.0000\n",
            "Epoch 281/500\n",
            "311/311 [==============================] - 1s 2ms/step - loss: 50139163000832.0000\n",
            "Epoch 282/500\n",
            "311/311 [==============================] - 1s 2ms/step - loss: 50089821208576.0000\n",
            "Epoch 283/500\n",
            "311/311 [==============================] - 1s 2ms/step - loss: 50043872608256.0000\n",
            "Epoch 284/500\n",
            "311/311 [==============================] - 1s 2ms/step - loss: 49993582903296.0000\n",
            "Epoch 285/500\n",
            "311/311 [==============================] - 1s 3ms/step - loss: 49945088360448.0000\n",
            "Epoch 286/500\n",
            "311/311 [==============================] - 1s 3ms/step - loss: 49892898635776.0000\n",
            "Epoch 287/500\n",
            "311/311 [==============================] - 1s 3ms/step - loss: 49851974811648.0000\n",
            "Epoch 288/500\n",
            "311/311 [==============================] - 1s 3ms/step - loss: 49798161891328.0000\n",
            "Epoch 289/500\n",
            "311/311 [==============================] - 1s 2ms/step - loss: 49748916568064.0000\n",
            "Epoch 290/500\n",
            "311/311 [==============================] - 1s 2ms/step - loss: 49701927780352.0000\n",
            "Epoch 291/500\n",
            "311/311 [==============================] - 1s 2ms/step - loss: 49656616714240.0000\n",
            "Epoch 292/500\n",
            "311/311 [==============================] - 1s 2ms/step - loss: 49598378803200.0000\n",
            "Epoch 293/500\n",
            "311/311 [==============================] - 1s 2ms/step - loss: 49551461318656.0000\n",
            "Epoch 294/500\n",
            "311/311 [==============================] - 1s 2ms/step - loss: 49498663419904.0000\n",
            "Epoch 295/500\n",
            "311/311 [==============================] - 1s 2ms/step - loss: 49456540024832.0000\n",
            "Epoch 296/500\n",
            "311/311 [==============================] - 1s 2ms/step - loss: 49414001393664.0000\n",
            "Epoch 297/500\n",
            "311/311 [==============================] - 1s 2ms/step - loss: 49356749144064.0000\n",
            "Epoch 298/500\n",
            "311/311 [==============================] - 1s 2ms/step - loss: 49310838292480.0000\n",
            "Epoch 299/500\n",
            "311/311 [==============================] - 1s 2ms/step - loss: 49263279079424.0000\n",
            "Epoch 300/500\n",
            "311/311 [==============================] - 1s 2ms/step - loss: 49214511906816.0000\n",
            "Epoch 301/500\n",
            "311/311 [==============================] - 1s 2ms/step - loss: 49168051601408.0000\n",
            "Epoch 302/500\n",
            "311/311 [==============================] - 1s 2ms/step - loss: 49118382653440.0000\n",
            "Epoch 303/500\n",
            "311/311 [==============================] - 1s 2ms/step - loss: 49066192928768.0000\n",
            "Epoch 304/500\n",
            "311/311 [==============================] - 1s 2ms/step - loss: 49017106989056.0000\n",
            "Epoch 305/500\n",
            "311/311 [==============================] - 1s 2ms/step - loss: 48970244030464.0000\n",
            "Epoch 306/500\n",
            "311/311 [==============================] - 1s 2ms/step - loss: 48919757193216.0000\n",
            "Epoch 307/500\n",
            "311/311 [==============================] - 1s 3ms/step - loss: 48867865264128.0000\n",
            "Epoch 308/500\n",
            "311/311 [==============================] - 1s 3ms/step - loss: 48826656227328.0000\n",
            "Epoch 309/500\n",
            "311/311 [==============================] - 1s 3ms/step - loss: 48775699628032.0000\n",
            "Epoch 310/500\n",
            "311/311 [==============================] - 1s 3ms/step - loss: 48730409533440.0000\n",
            "Epoch 311/500\n",
            "311/311 [==============================] - 1s 3ms/step - loss: 48684377047040.0000\n",
            "Epoch 312/500\n",
            "311/311 [==============================] - 1s 2ms/step - loss: 48628450197504.0000\n",
            "Epoch 313/500\n",
            "311/311 [==============================] - 1s 2ms/step - loss: 48584250621952.0000\n",
            "Epoch 314/500\n",
            "311/311 [==============================] - 1s 2ms/step - loss: 48538448822272.0000\n",
            "Epoch 315/500\n",
            "311/311 [==============================] - 1s 2ms/step - loss: 48488662433792.0000\n",
            "Epoch 316/500\n",
            "311/311 [==============================] - 1s 2ms/step - loss: 48436070055936.0000\n",
            "Epoch 317/500\n",
            "311/311 [==============================] - 1s 2ms/step - loss: 48392340242432.0000\n",
            "Epoch 318/500\n",
            "311/311 [==============================] - 1s 2ms/step - loss: 48348585263104.0000\n",
            "Epoch 319/500\n",
            "311/311 [==============================] - 1s 2ms/step - loss: 48300182994944.0000\n",
            "Epoch 320/500\n",
            "311/311 [==============================] - 1s 2ms/step - loss: 48252242100224.0000\n",
            "Epoch 321/500\n",
            "311/311 [==============================] - 1s 2ms/step - loss: 48204544475136.0000\n",
            "Epoch 322/500\n",
            "311/311 [==============================] - 1s 2ms/step - loss: 48158704926720.0000\n",
            "Epoch 323/500\n",
            "311/311 [==============================] - 1s 2ms/step - loss: 48108478136320.0000\n",
            "Epoch 324/500\n",
            "311/311 [==============================] - 1s 2ms/step - loss: 48062068162560.0000\n",
            "Epoch 325/500\n",
            "311/311 [==============================] - 1s 2ms/step - loss: 48014173405184.0000\n",
            "Epoch 326/500\n",
            "311/311 [==============================] - 1s 2ms/step - loss: 47970582003712.0000\n",
            "Epoch 327/500\n",
            "311/311 [==============================] - 1s 2ms/step - loss: 47932497723392.0000\n",
            "Epoch 328/500\n",
            "311/311 [==============================] - 1s 2ms/step - loss: 47873530003456.0000\n",
            "Epoch 329/500\n",
            "311/311 [==============================] - 1s 2ms/step - loss: 47827828867072.0000\n",
            "Epoch 330/500\n",
            "311/311 [==============================] - 1s 3ms/step - loss: 47787412553728.0000\n",
            "Epoch 331/500\n",
            "311/311 [==============================] - 1s 3ms/step - loss: 47736787304448.0000\n",
            "Epoch 332/500\n",
            "311/311 [==============================] - 1s 3ms/step - loss: 47688888352768.0000\n",
            "Epoch 333/500\n",
            "311/311 [==============================] - 1s 3ms/step - loss: 47643036221440.0000\n",
            "Epoch 334/500\n",
            "311/311 [==============================] - 1s 2ms/step - loss: 47600250126336.0000\n",
            "Epoch 335/500\n",
            "311/311 [==============================] - 1s 2ms/step - loss: 47557329813504.0000\n",
            "Epoch 336/500\n",
            "311/311 [==============================] - 1s 2ms/step - loss: 47505219780608.0000\n",
            "Epoch 337/500\n",
            "311/311 [==============================] - 1s 2ms/step - loss: 47461708070912.0000\n",
            "Epoch 338/500\n",
            "311/311 [==============================] - 1s 2ms/step - loss: 47417235865600.0000\n",
            "Epoch 339/500\n",
            "311/311 [==============================] - 1s 2ms/step - loss: 47367822770176.0000\n",
            "Epoch 340/500\n",
            "311/311 [==============================] - 1s 2ms/step - loss: 47325883924480.0000\n",
            "Epoch 341/500\n",
            "311/311 [==============================] - 1s 2ms/step - loss: 47282279940096.0000\n",
            "Epoch 342/500\n",
            "311/311 [==============================] - 1s 2ms/step - loss: 47237543493632.0000\n",
            "Epoch 343/500\n",
            "311/311 [==============================] - 1s 2ms/step - loss: 47193696239616.0000\n",
            "Epoch 344/500\n",
            "311/311 [==============================] - 1s 2ms/step - loss: 47150276804608.0000\n",
            "Epoch 345/500\n",
            "311/311 [==============================] - 1s 2ms/step - loss: 47100549136384.0000\n",
            "Epoch 346/500\n",
            "311/311 [==============================] - 1s 2ms/step - loss: 47061433057280.0000\n",
            "Epoch 347/500\n",
            "311/311 [==============================] - 1s 2ms/step - loss: 47013525716992.0000\n",
            "Epoch 348/500\n",
            "311/311 [==============================] - 1s 2ms/step - loss: 46970882228224.0000\n",
            "Epoch 349/500\n",
            "311/311 [==============================] - 1s 2ms/step - loss: 46915831988224.0000\n",
            "Epoch 350/500\n",
            "311/311 [==============================] - 1s 2ms/step - loss: 46880796966912.0000\n",
            "Epoch 351/500\n",
            "311/311 [==============================] - 1s 2ms/step - loss: 46828628213760.0000\n",
            "Epoch 352/500\n",
            "311/311 [==============================] - 1s 2ms/step - loss: 46788853628928.0000\n",
            "Epoch 353/500\n",
            "311/311 [==============================] - 1s 3ms/step - loss: 46744859574272.0000\n",
            "Epoch 354/500\n",
            "311/311 [==============================] - 1s 3ms/step - loss: 46699569479680.0000\n",
            "Epoch 355/500\n",
            "311/311 [==============================] - 1s 3ms/step - loss: 46650445791232.0000\n",
            "Epoch 356/500\n",
            "311/311 [==============================] - 1s 3ms/step - loss: 46611333906432.0000\n",
            "Epoch 357/500\n",
            "311/311 [==============================] - 1s 2ms/step - loss: 46567704756224.0000\n",
            "Epoch 358/500\n",
            "311/311 [==============================] - 1s 2ms/step - loss: 46526504108032.0000\n",
            "Epoch 359/500\n",
            "311/311 [==============================] - 1s 2ms/step - loss: 46483059507200.0000\n",
            "Epoch 360/500\n",
            "311/311 [==============================] - 1s 2ms/step - loss: 46445075890176.0000\n",
            "Epoch 361/500\n",
            "311/311 [==============================] - 1s 2ms/step - loss: 46390776430592.0000\n",
            "Epoch 362/500\n",
            "311/311 [==============================] - 1s 2ms/step - loss: 46343418544128.0000\n",
            "Epoch 363/500\n",
            "311/311 [==============================] - 1s 2ms/step - loss: 46307154591744.0000\n",
            "Epoch 364/500\n",
            "311/311 [==============================] - 1s 2ms/step - loss: 46261600256000.0000\n",
            "Epoch 365/500\n",
            "311/311 [==============================] - 1s 2ms/step - loss: 46218247929856.0000\n",
            "Epoch 366/500\n",
            "311/311 [==============================] - 1s 2ms/step - loss: 46176929841152.0000\n",
            "Epoch 367/500\n",
            "311/311 [==============================] - 1s 2ms/step - loss: 46137511772160.0000\n",
            "Epoch 368/500\n",
            "311/311 [==============================] - 1s 2ms/step - loss: 46088903983104.0000\n",
            "Epoch 369/500\n",
            "311/311 [==============================] - 1s 2ms/step - loss: 46051205578752.0000\n",
            "Epoch 370/500\n",
            "311/311 [==============================] - 1s 2ms/step - loss: 46002182553600.0000\n",
            "Epoch 371/500\n",
            "311/311 [==============================] - 1s 2ms/step - loss: 45961967566848.0000\n",
            "Epoch 372/500\n",
            "311/311 [==============================] - 1s 2ms/step - loss: 45926638944256.0000\n",
            "Epoch 373/500\n",
            "311/311 [==============================] - 1s 2ms/step - loss: 45882867187712.0000\n",
            "Epoch 374/500\n",
            "311/311 [==============================] - 1s 2ms/step - loss: 45836960530432.0000\n",
            "Epoch 375/500\n",
            "311/311 [==============================] - 1s 2ms/step - loss: 45795512418304.0000\n",
            "Epoch 376/500\n",
            "311/311 [==============================] - 1s 3ms/step - loss: 45760934576128.0000\n",
            "Epoch 377/500\n",
            "311/311 [==============================] - 1s 2ms/step - loss: 45712473587712.0000\n",
            "Epoch 378/500\n",
            "311/311 [==============================] - 1s 3ms/step - loss: 45671688175616.0000\n",
            "Epoch 379/500\n",
            "311/311 [==============================] - 1s 3ms/step - loss: 45636049174528.0000\n",
            "Epoch 380/500\n",
            "311/311 [==============================] - 1s 3ms/step - loss: 45586585747456.0000\n",
            "Epoch 381/500\n",
            "311/311 [==============================] - 1s 2ms/step - loss: 45547062820864.0000\n",
            "Epoch 382/500\n",
            "311/311 [==============================] - 1s 2ms/step - loss: 45510522044416.0000\n",
            "Epoch 383/500\n",
            "311/311 [==============================] - 1s 2ms/step - loss: 45463340318720.0000\n",
            "Epoch 384/500\n",
            "311/311 [==============================] - 1s 2ms/step - loss: 45424933076992.0000\n",
            "Epoch 385/500\n",
            "311/311 [==============================] - 1s 2ms/step - loss: 45386429366272.0000\n",
            "Epoch 386/500\n",
            "311/311 [==============================] - 1s 2ms/step - loss: 45345690091520.0000\n",
            "Epoch 387/500\n",
            "311/311 [==============================] - 1s 2ms/step - loss: 45302530703360.0000\n",
            "Epoch 388/500\n",
            "311/311 [==============================] - 1s 2ms/step - loss: 45262588346368.0000\n",
            "Epoch 389/500\n",
            "311/311 [==============================] - 1s 2ms/step - loss: 45218481045504.0000\n",
            "Epoch 390/500\n",
            "311/311 [==============================] - 1s 2ms/step - loss: 45180061220864.0000\n",
            "Epoch 391/500\n",
            "311/311 [==============================] - 1s 2ms/step - loss: 45141612036096.0000\n",
            "Epoch 392/500\n",
            "311/311 [==============================] - 1s 2ms/step - loss: 45095512440832.0000\n",
            "Epoch 393/500\n",
            "311/311 [==============================] - 1s 2ms/step - loss: 45056891289600.0000\n",
            "Epoch 394/500\n",
            "311/311 [==============================] - 1s 2ms/step - loss: 45013589295104.0000\n",
            "Epoch 395/500\n",
            "311/311 [==============================] - 1s 2ms/step - loss: 44980085194752.0000\n",
            "Epoch 396/500\n",
            "311/311 [==============================] - 1s 2ms/step - loss: 44944337141760.0000\n",
            "Epoch 397/500\n",
            "311/311 [==============================] - 1s 2ms/step - loss: 44901270028288.0000\n",
            "Epoch 398/500\n",
            "311/311 [==============================] - 1s 2ms/step - loss: 44860786606080.0000\n",
            "Epoch 399/500\n",
            "311/311 [==============================] - 1s 3ms/step - loss: 44817551720448.0000\n",
            "Epoch 400/500\n",
            "311/311 [==============================] - 1s 3ms/step - loss: 44783733047296.0000\n",
            "Epoch 401/500\n",
            "311/311 [==============================] - 1s 3ms/step - loss: 44745707487232.0000\n",
            "Epoch 402/500\n",
            "311/311 [==============================] - 1s 3ms/step - loss: 44709330288640.0000\n",
            "Epoch 403/500\n",
            "311/311 [==============================] - 1s 3ms/step - loss: 44669656367104.0000\n",
            "Epoch 404/500\n",
            "311/311 [==============================] - 1s 2ms/step - loss: 44631714693120.0000\n",
            "Epoch 405/500\n",
            "311/311 [==============================] - 1s 2ms/step - loss: 44593366171648.0000\n",
            "Epoch 406/500\n",
            "311/311 [==============================] - 1s 2ms/step - loss: 44558670888960.0000\n",
            "Epoch 407/500\n",
            "311/311 [==============================] - 1s 2ms/step - loss: 44519181516800.0000\n",
            "Epoch 408/500\n",
            "311/311 [==============================] - 1s 2ms/step - loss: 44478182195200.0000\n",
            "Epoch 409/500\n",
            "311/311 [==============================] - 1s 2ms/step - loss: 44440064360448.0000\n",
            "Epoch 410/500\n",
            "311/311 [==============================] - 1s 2ms/step - loss: 44409651462144.0000\n",
            "Epoch 411/500\n",
            "311/311 [==============================] - 1s 2ms/step - loss: 44366647263232.0000\n",
            "Epoch 412/500\n",
            "311/311 [==============================] - 1s 2ms/step - loss: 44329133408256.0000\n",
            "Epoch 413/500\n",
            "311/311 [==============================] - 1s 2ms/step - loss: 44297453830144.0000\n",
            "Epoch 414/500\n",
            "311/311 [==============================] - 1s 2ms/step - loss: 44261517033472.0000\n",
            "Epoch 415/500\n",
            "311/311 [==============================] - 1s 2ms/step - loss: 44223864766464.0000\n",
            "Epoch 416/500\n",
            "311/311 [==============================] - 1s 2ms/step - loss: 44188590669824.0000\n",
            "Epoch 417/500\n",
            "311/311 [==============================] - 1s 2ms/step - loss: 44155954790400.0000\n",
            "Epoch 418/500\n",
            "311/311 [==============================] - 1s 2ms/step - loss: 44114066276352.0000\n",
            "Epoch 419/500\n",
            "311/311 [==============================] - 1s 2ms/step - loss: 44077399670784.0000\n",
            "Epoch 420/500\n",
            "311/311 [==============================] - 1s 2ms/step - loss: 44038317146112.0000\n",
            "Epoch 421/500\n",
            "311/311 [==============================] - 1s 2ms/step - loss: 44007908442112.0000\n",
            "Epoch 422/500\n",
            "311/311 [==============================] - 1s 3ms/step - loss: 43968557481984.0000\n",
            "Epoch 423/500\n",
            "311/311 [==============================] - 1s 3ms/step - loss: 43934130634752.0000\n",
            "Epoch 424/500\n",
            "311/311 [==============================] - 1s 3ms/step - loss: 43893357805568.0000\n",
            "Epoch 425/500\n",
            "311/311 [==============================] - 1s 3ms/step - loss: 43860298301440.0000\n",
            "Epoch 426/500\n",
            "311/311 [==============================] - 1s 3ms/step - loss: 43823958851584.0000\n",
            "Epoch 427/500\n",
            "311/311 [==============================] - 1s 2ms/step - loss: 43790542831616.0000\n",
            "Epoch 428/500\n",
            "311/311 [==============================] - 1s 2ms/step - loss: 43750294290432.0000\n",
            "Epoch 429/500\n",
            "311/311 [==============================] - 1s 2ms/step - loss: 43718086230016.0000\n",
            "Epoch 430/500\n",
            "311/311 [==============================] - 1s 2ms/step - loss: 43681667088384.0000\n",
            "Epoch 431/500\n",
            "311/311 [==============================] - 1s 2ms/step - loss: 43650822176768.0000\n",
            "Epoch 432/500\n",
            "311/311 [==============================] - 1s 2ms/step - loss: 43613857775616.0000\n",
            "Epoch 433/500\n",
            "311/311 [==============================] - 1s 2ms/step - loss: 43578554318848.0000\n",
            "Epoch 434/500\n",
            "311/311 [==============================] - 1s 2ms/step - loss: 43548086894592.0000\n",
            "Epoch 435/500\n",
            "311/311 [==============================] - 1s 2ms/step - loss: 43509549629440.0000\n",
            "Epoch 436/500\n",
            "311/311 [==============================] - 1s 2ms/step - loss: 43476855029760.0000\n",
            "Epoch 437/500\n",
            "311/311 [==============================] - 1s 2ms/step - loss: 43444869267456.0000\n",
            "Epoch 438/500\n",
            "311/311 [==============================] - 1s 2ms/step - loss: 43405841268736.0000\n",
            "Epoch 439/500\n",
            "311/311 [==============================] - 1s 2ms/step - loss: 43380868382720.0000\n",
            "Epoch 440/500\n",
            "311/311 [==============================] - 1s 2ms/step - loss: 43341274152960.0000\n",
            "Epoch 441/500\n",
            "311/311 [==============================] - 1s 2ms/step - loss: 43309602963456.0000\n",
            "Epoch 442/500\n",
            "311/311 [==============================] - 1s 2ms/step - loss: 43274601496576.0000\n",
            "Epoch 443/500\n",
            "311/311 [==============================] - 1s 2ms/step - loss: 43250211618816.0000\n",
            "Epoch 444/500\n",
            "311/311 [==============================] - 1s 3ms/step - loss: 43210365730816.0000\n",
            "Epoch 445/500\n",
            "311/311 [==============================] - 1s 3ms/step - loss: 43171362897920.0000\n",
            "Epoch 446/500\n",
            "311/311 [==============================] - 1s 3ms/step - loss: 43148667518976.0000\n",
            "Epoch 447/500\n",
            "311/311 [==============================] - 1s 3ms/step - loss: 43111413710848.0000\n",
            "Epoch 448/500\n",
            "311/311 [==============================] - 1s 3ms/step - loss: 43074721939456.0000\n",
            "Epoch 449/500\n",
            "311/311 [==============================] - 1s 2ms/step - loss: 43046246809600.0000\n",
            "Epoch 450/500\n",
            "311/311 [==============================] - 1s 2ms/step - loss: 43015875854336.0000\n",
            "Epoch 451/500\n",
            "311/311 [==============================] - 1s 3ms/step - loss: 42982115901440.0000\n",
            "Epoch 452/500\n",
            "311/311 [==============================] - 1s 3ms/step - loss: 42952738996224.0000\n",
            "Epoch 453/500\n",
            "311/311 [==============================] - 1s 3ms/step - loss: 42921080389632.0000\n",
            "Epoch 454/500\n",
            "311/311 [==============================] - 1s 3ms/step - loss: 42884413784064.0000\n",
            "Epoch 455/500\n",
            "311/311 [==============================] - 1s 3ms/step - loss: 42854936215552.0000\n",
            "Epoch 456/500\n",
            "311/311 [==============================] - 1s 2ms/step - loss: 42823927726080.0000\n",
            "Epoch 457/500\n",
            "311/311 [==============================] - 1s 2ms/step - loss: 42792319451136.0000\n",
            "Epoch 458/500\n",
            "311/311 [==============================] - 1s 2ms/step - loss: 42764410552320.0000\n",
            "Epoch 459/500\n",
            "311/311 [==============================] - 1s 2ms/step - loss: 42725978144768.0000\n",
            "Epoch 460/500\n",
            "311/311 [==============================] - 1s 2ms/step - loss: 42696995504128.0000\n",
            "Epoch 461/500\n",
            "311/311 [==============================] - 1s 2ms/step - loss: 42659741696000.0000\n",
            "Epoch 462/500\n",
            "311/311 [==============================] - 1s 2ms/step - loss: 42639764226048.0000\n",
            "Epoch 463/500\n",
            "311/311 [==============================] - 1s 3ms/step - loss: 42599733788672.0000\n",
            "Epoch 464/500\n",
            "311/311 [==============================] - 1s 3ms/step - loss: 42573628440576.0000\n",
            "Epoch 465/500\n",
            "311/311 [==============================] - 1s 3ms/step - loss: 42539860099072.0000\n",
            "Epoch 466/500\n",
            "311/311 [==============================] - 1s 3ms/step - loss: 42517999386624.0000\n",
            "Epoch 467/500\n",
            "311/311 [==============================] - 1s 3ms/step - loss: 42485594193920.0000\n",
            "Epoch 468/500\n",
            "311/311 [==============================] - 1s 2ms/step - loss: 42454405349376.0000\n",
            "Epoch 469/500\n",
            "311/311 [==============================] - 1s 2ms/step - loss: 42422503473152.0000\n",
            "Epoch 470/500\n",
            "311/311 [==============================] - 1s 2ms/step - loss: 42393424363520.0000\n",
            "Epoch 471/500\n",
            "311/311 [==============================] - 1s 2ms/step - loss: 42359274340352.0000\n",
            "Epoch 472/500\n",
            "311/311 [==============================] - 1s 2ms/step - loss: 42342090276864.0000\n",
            "Epoch 473/500\n",
            "311/311 [==============================] - 1s 2ms/step - loss: 42303515262976.0000\n",
            "Epoch 474/500\n",
            "311/311 [==============================] - 1s 2ms/step - loss: 42278177472512.0000\n",
            "Epoch 475/500\n",
            "311/311 [==============================] - 1s 2ms/step - loss: 42243385720832.0000\n",
            "Epoch 476/500\n",
            "311/311 [==============================] - 1s 2ms/step - loss: 42218429612032.0000\n",
            "Epoch 477/500\n",
            "311/311 [==============================] - 1s 2ms/step - loss: 42190629765120.0000\n",
            "Epoch 478/500\n",
            "311/311 [==============================] - 1s 2ms/step - loss: 42164566360064.0000\n",
            "Epoch 479/500\n",
            "311/311 [==============================] - 1s 2ms/step - loss: 42135072014336.0000\n",
            "Epoch 480/500\n",
            "311/311 [==============================] - 1s 2ms/step - loss: 42111655215104.0000\n",
            "Epoch 481/500\n",
            "311/311 [==============================] - 1s 2ms/step - loss: 42074132971520.0000\n",
            "Epoch 482/500\n",
            "311/311 [==============================] - 1s 2ms/step - loss: 42052502945792.0000\n",
            "Epoch 483/500\n",
            "311/311 [==============================] - 1s 2ms/step - loss: 42026728947712.0000\n",
            "Epoch 484/500\n",
            "311/311 [==============================] - 1s 2ms/step - loss: 41995045175296.0000\n",
            "Epoch 485/500\n",
            "311/311 [==============================] - 1s 3ms/step - loss: 41967157248000.0000\n",
            "Epoch 486/500\n",
            "311/311 [==============================] - 1s 3ms/step - loss: 41941806874624.0000\n",
            "Epoch 487/500\n",
            "311/311 [==============================] - 1s 3ms/step - loss: 41913889587200.0000\n",
            "Epoch 488/500\n",
            "311/311 [==============================] - 1s 3ms/step - loss: 41884651094016.0000\n",
            "Epoch 489/500\n",
            "311/311 [==============================] - 1s 3ms/step - loss: 41862043795456.0000\n",
            "Epoch 490/500\n",
            "311/311 [==============================] - 1s 2ms/step - loss: 41830859145216.0000\n",
            "Epoch 491/500\n",
            "311/311 [==============================] - 1s 2ms/step - loss: 41816606900224.0000\n",
            "Epoch 492/500\n",
            "311/311 [==============================] - 1s 2ms/step - loss: 41780296810496.0000\n",
            "Epoch 493/500\n",
            "311/311 [==============================] - 1s 2ms/step - loss: 41751410638848.0000\n",
            "Epoch 494/500\n",
            "311/311 [==============================] - 1s 2ms/step - loss: 41722075676672.0000\n",
            "Epoch 495/500\n",
            "311/311 [==============================] - 1s 2ms/step - loss: 41695148244992.0000\n",
            "Epoch 496/500\n",
            "311/311 [==============================] - 1s 2ms/step - loss: 41666882830336.0000\n",
            "Epoch 497/500\n",
            "311/311 [==============================] - 1s 2ms/step - loss: 41641805086720.0000\n",
            "Epoch 498/500\n",
            "311/311 [==============================] - 1s 2ms/step - loss: 41621651456000.0000\n",
            "Epoch 499/500\n",
            "311/311 [==============================] - 1s 2ms/step - loss: 41595038597120.0000\n",
            "Epoch 500/500\n",
            "311/311 [==============================] - 1s 2ms/step - loss: 41565842046976.0000\n"
          ]
        },
        {
          "output_type": "execute_result",
          "data": {
            "text/plain": [
              "<keras.src.callbacks.History at 0x78cf5749b670>"
            ]
          },
          "metadata": {},
          "execution_count": 36
        }
      ],
      "source": [
        "model.fit(X, Y, epochs=500, batch_size=256)\n",
        "\n",
        "#model.fit(X, Y, epochs=50, batch_size=250, verbose=2, validation_split=0.2)"
      ]
    },
    {
      "cell_type": "markdown",
      "metadata": {
        "id": "H_lwaGVrsuqa"
      },
      "source": [
        "# Evalúar el modelo\n",
        "Preparamos los datos de prueba"
      ]
    },
    {
      "cell_type": "code",
      "source": [
        "X_testNp = X_test.values\n",
        "y_testNp= y_test.values"
      ],
      "metadata": {
        "id": "6gddVHgT6-TJ"
      },
      "execution_count": 28,
      "outputs": []
    },
    {
      "cell_type": "code",
      "source": [
        "y_testNp.size"
      ],
      "metadata": {
        "colab": {
          "base_uri": "https://localhost:8080/"
        },
        "id": "Ft3Ubtsw8Kfb",
        "outputId": "c4140e5a-34a8-402f-bb1c-95cedb06c6ec"
      },
      "execution_count": 29,
      "outputs": [
        {
          "output_type": "execute_result",
          "data": {
            "text/plain": [
              "19900"
            ]
          },
          "metadata": {},
          "execution_count": 29
        }
      ]
    },
    {
      "cell_type": "markdown",
      "source": [
        "Realizamos la prediccion con los datos de prueba y evaluamos el nivel de variacion entre los resultados de la prediccion y los valores reales. Esto ultimo lo hacemos con la ayuda de la funcion 'r2_score' que calcula el coeficiente de determinacion, entre mas cerca de 1 este el valor, mejor se ajustan las prediciones a los datos reales"
      ],
      "metadata": {
        "id": "8qCPi4PmqJTr"
      }
    },
    {
      "cell_type": "code",
      "source": [
        "from sklearn.metrics import r2_score\n",
        "\n",
        "# Hacer predicciones con el modelo\n",
        "predictions = model.predict(X_testNp)\n",
        "\n",
        "# Calcular el coeficiente de determinación (R^2)\n",
        "r2 = r2_score(y_testNp, predictions)\n",
        "print(\"R^2: %.2f\" % r2)\n",
        "print(predictions[:20])\n",
        "print(y_testNp[:20])\n"
      ],
      "metadata": {
        "colab": {
          "base_uri": "https://localhost:8080/"
        },
        "id": "ZwsXoPVB6oTW",
        "outputId": "95c49d56-eac2-4eca-f796-73d3030c920a"
      },
      "execution_count": 37,
      "outputs": [
        {
          "output_type": "stream",
          "name": "stdout",
          "text": [
            "622/622 [==============================] - 1s 1ms/step\n",
            "R^2: 0.64\n",
            "[[ 9005345.  ]\n",
            " [  253014.73]\n",
            " [13597699.  ]\n",
            " [ 3352767.2 ]\n",
            " [21611920.  ]\n",
            " [  373014.75]\n",
            " [ 7467230.  ]\n",
            " [11020289.  ]\n",
            " [16987530.  ]\n",
            " [13301492.  ]\n",
            " [ -574000.25]\n",
            " [ -132166.52]\n",
            " [  341854.25]\n",
            " [11273760.  ]\n",
            " [ 3918845.8 ]\n",
            " [29013422.  ]\n",
            " [  290469.75]\n",
            " [17405278.  ]\n",
            " [  389668.25]\n",
            " [23282884.  ]]\n",
            "[21000000   170000 19700000  5000000 17500000    70000  5200000   350000\n",
            " 22000000 22000000    40000    75000   200000  6200000   300000 32500000\n",
            "   150000 11000000    70000 23500000]\n"
          ]
        }
      ]
    }
  ]
}